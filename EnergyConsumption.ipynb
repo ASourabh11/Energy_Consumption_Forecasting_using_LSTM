{
  "nbformat": 4,
  "nbformat_minor": 0,
  "metadata": {
    "colab": {
      "name": "EnergyConsumption.ipynb",
      "provenance": []
    },
    "kernelspec": {
      "name": "python3",
      "display_name": "Python 3"
    },
    "accelerator": "GPU"
  },
  "cells": [
    {
      "cell_type": "markdown",
      "metadata": {
        "id": "b6yXEYKnVRx3"
      },
      "source": [
        "## Engrgy Consumption forecasting with LSTM\n",
        "\n",
        "- In this project I have trained RNN model to predict the energy consumption by home appliences\n",
        "\n",
        "- The Dataset used in this project is available on UCI Machine learning libraby with following link \n",
        "https://archive.ics.uci.edu/ml/datasets/Appliances+energy+prediction\n",
        "\n",
        "- Dataset Description:\n",
        "\n",
        "1. Appliances, energy consumption by Home appliances in Wh\n",
        "2. lights, energy use of light fixtures in the house in Wh\n",
        "3. T1, Temperature in kitchen area, in Celsius\n",
        "4. RH_1, Humidity in kitchen area, in %\n",
        "5. T2, Temperature in living room area, in Celsius\n",
        "6. RH_2, Humidity in living room area, in %\n",
        "7. T3, Temperature in laundry room area\n",
        "8. RH_3, Humidity in laundry room area, in %\n",
        "9. T4, Temperature in office room, in Celsius\n",
        "10. RH_4, Humidity in office room, in %\n",
        "11. T5, Temperature in bathroom, in Celsius\n",
        "12. RH_5, Humidity in bathroom, in %\n",
        "13. T6, Temperature outside the building (north side), in Celsius\n",
        "14. RH_6, Humidity outside the building (north side), in %\n",
        "15. T7, Temperature in ironing room , in Celsius\n",
        "16. RH_7, Humidity in ironing room, in %\n",
        "17. T8, Temperature in teenager room 2, in Celsius\n",
        "18. RH_8, Humidity in teenager room 2, in %\n",
        "19. T9, Temperature in parents room, in Celsius\n",
        "20. RH_9, Humidity in parents room, in %\n",
        "21. To, Temperature outside (from Chievres weather station), in Celsius\n",
        "22. Pressure (from Chievres weather station), in mm Hg\n",
        "23. RH_out, Humidity outside (from Chievres weather station), in %\n",
        "24. Wind speed (from Chievres weather station), in m/s\n",
        "25. Visibility (from Chievres weather station), in km\n",
        "26. Tdewpoint (from Chievres weather station), Â°C\n",
        "27. rv1, Random variable 1, nondimensional\n",
        "28. rv2, Random variable 2, nondimensional"
      ]
    },
    {
      "cell_type": "markdown",
      "metadata": {
        "id": "puGEexd3kOQF"
      },
      "source": [
        "## 1. Importing Libraries"
      ]
    },
    {
      "cell_type": "code",
      "metadata": {
        "id": "SzIM7xfFh-ZB"
      },
      "source": [
        "import pandas as pd\n",
        "import numpy as np\n",
        "import seaborn as sns\n",
        "import matplotlib.pyplot as plt\n",
        "%matplotlib inline"
      ],
      "execution_count": 85,
      "outputs": []
    },
    {
      "cell_type": "markdown",
      "metadata": {
        "id": "qso4Y_gcm5Uk"
      },
      "source": [
        "## 2. Importing Dataset"
      ]
    },
    {
      "cell_type": "code",
      "metadata": {
        "id": "QpTCL9lci5Qo"
      },
      "source": [
        "df = pd.read_csv('/content/energydata_complete.csv')"
      ],
      "execution_count": 86,
      "outputs": []
    },
    {
      "cell_type": "code",
      "metadata": {
        "colab": {
          "base_uri": "https://localhost:8080/",
          "height": 779
        },
        "id": "BbSms7UTjIAY",
        "outputId": "a5f63a08-0531-4317-bcc6-9549c25fa753"
      },
      "source": [
        "df"
      ],
      "execution_count": 87,
      "outputs": [
        {
          "output_type": "execute_result",
          "data": {
            "text/html": [
              "<div>\n",
              "<style scoped>\n",
              "    .dataframe tbody tr th:only-of-type {\n",
              "        vertical-align: middle;\n",
              "    }\n",
              "\n",
              "    .dataframe tbody tr th {\n",
              "        vertical-align: top;\n",
              "    }\n",
              "\n",
              "    .dataframe thead th {\n",
              "        text-align: right;\n",
              "    }\n",
              "</style>\n",
              "<table border=\"1\" class=\"dataframe\">\n",
              "  <thead>\n",
              "    <tr style=\"text-align: right;\">\n",
              "      <th></th>\n",
              "      <th>date</th>\n",
              "      <th>Appliances</th>\n",
              "      <th>lights</th>\n",
              "      <th>T1</th>\n",
              "      <th>RH_1</th>\n",
              "      <th>T2</th>\n",
              "      <th>RH_2</th>\n",
              "      <th>T3</th>\n",
              "      <th>RH_3</th>\n",
              "      <th>T4</th>\n",
              "      <th>RH_4</th>\n",
              "      <th>T5</th>\n",
              "      <th>RH_5</th>\n",
              "      <th>T6</th>\n",
              "      <th>RH_6</th>\n",
              "      <th>T7</th>\n",
              "      <th>RH_7</th>\n",
              "      <th>T8</th>\n",
              "      <th>RH_8</th>\n",
              "      <th>T9</th>\n",
              "      <th>RH_9</th>\n",
              "      <th>T_out</th>\n",
              "      <th>Press_mm_hg</th>\n",
              "      <th>RH_out</th>\n",
              "      <th>Windspeed</th>\n",
              "      <th>Visibility</th>\n",
              "      <th>Tdewpoint</th>\n",
              "      <th>rv1</th>\n",
              "      <th>rv2</th>\n",
              "    </tr>\n",
              "  </thead>\n",
              "  <tbody>\n",
              "    <tr>\n",
              "      <th>0</th>\n",
              "      <td>2016-01-11 17:00:00</td>\n",
              "      <td>60</td>\n",
              "      <td>30</td>\n",
              "      <td>19.890000</td>\n",
              "      <td>47.596667</td>\n",
              "      <td>19.200000</td>\n",
              "      <td>44.790000</td>\n",
              "      <td>19.790000</td>\n",
              "      <td>44.730000</td>\n",
              "      <td>19.000000</td>\n",
              "      <td>45.566667</td>\n",
              "      <td>17.166667</td>\n",
              "      <td>55.200000</td>\n",
              "      <td>7.026667</td>\n",
              "      <td>84.256667</td>\n",
              "      <td>17.200000</td>\n",
              "      <td>41.626667</td>\n",
              "      <td>18.2000</td>\n",
              "      <td>48.900000</td>\n",
              "      <td>17.033333</td>\n",
              "      <td>45.5300</td>\n",
              "      <td>6.600000</td>\n",
              "      <td>733.5</td>\n",
              "      <td>92.000000</td>\n",
              "      <td>7.000000</td>\n",
              "      <td>63.000000</td>\n",
              "      <td>5.300000</td>\n",
              "      <td>13.275433</td>\n",
              "      <td>13.275433</td>\n",
              "    </tr>\n",
              "    <tr>\n",
              "      <th>1</th>\n",
              "      <td>2016-01-11 17:10:00</td>\n",
              "      <td>60</td>\n",
              "      <td>30</td>\n",
              "      <td>19.890000</td>\n",
              "      <td>46.693333</td>\n",
              "      <td>19.200000</td>\n",
              "      <td>44.722500</td>\n",
              "      <td>19.790000</td>\n",
              "      <td>44.790000</td>\n",
              "      <td>19.000000</td>\n",
              "      <td>45.992500</td>\n",
              "      <td>17.166667</td>\n",
              "      <td>55.200000</td>\n",
              "      <td>6.833333</td>\n",
              "      <td>84.063333</td>\n",
              "      <td>17.200000</td>\n",
              "      <td>41.560000</td>\n",
              "      <td>18.2000</td>\n",
              "      <td>48.863333</td>\n",
              "      <td>17.066667</td>\n",
              "      <td>45.5600</td>\n",
              "      <td>6.483333</td>\n",
              "      <td>733.6</td>\n",
              "      <td>92.000000</td>\n",
              "      <td>6.666667</td>\n",
              "      <td>59.166667</td>\n",
              "      <td>5.200000</td>\n",
              "      <td>18.606195</td>\n",
              "      <td>18.606195</td>\n",
              "    </tr>\n",
              "    <tr>\n",
              "      <th>2</th>\n",
              "      <td>2016-01-11 17:20:00</td>\n",
              "      <td>50</td>\n",
              "      <td>30</td>\n",
              "      <td>19.890000</td>\n",
              "      <td>46.300000</td>\n",
              "      <td>19.200000</td>\n",
              "      <td>44.626667</td>\n",
              "      <td>19.790000</td>\n",
              "      <td>44.933333</td>\n",
              "      <td>18.926667</td>\n",
              "      <td>45.890000</td>\n",
              "      <td>17.166667</td>\n",
              "      <td>55.090000</td>\n",
              "      <td>6.560000</td>\n",
              "      <td>83.156667</td>\n",
              "      <td>17.200000</td>\n",
              "      <td>41.433333</td>\n",
              "      <td>18.2000</td>\n",
              "      <td>48.730000</td>\n",
              "      <td>17.000000</td>\n",
              "      <td>45.5000</td>\n",
              "      <td>6.366667</td>\n",
              "      <td>733.7</td>\n",
              "      <td>92.000000</td>\n",
              "      <td>6.333333</td>\n",
              "      <td>55.333333</td>\n",
              "      <td>5.100000</td>\n",
              "      <td>28.642668</td>\n",
              "      <td>28.642668</td>\n",
              "    </tr>\n",
              "    <tr>\n",
              "      <th>3</th>\n",
              "      <td>2016-01-11 17:30:00</td>\n",
              "      <td>50</td>\n",
              "      <td>40</td>\n",
              "      <td>19.890000</td>\n",
              "      <td>46.066667</td>\n",
              "      <td>19.200000</td>\n",
              "      <td>44.590000</td>\n",
              "      <td>19.790000</td>\n",
              "      <td>45.000000</td>\n",
              "      <td>18.890000</td>\n",
              "      <td>45.723333</td>\n",
              "      <td>17.166667</td>\n",
              "      <td>55.090000</td>\n",
              "      <td>6.433333</td>\n",
              "      <td>83.423333</td>\n",
              "      <td>17.133333</td>\n",
              "      <td>41.290000</td>\n",
              "      <td>18.1000</td>\n",
              "      <td>48.590000</td>\n",
              "      <td>17.000000</td>\n",
              "      <td>45.4000</td>\n",
              "      <td>6.250000</td>\n",
              "      <td>733.8</td>\n",
              "      <td>92.000000</td>\n",
              "      <td>6.000000</td>\n",
              "      <td>51.500000</td>\n",
              "      <td>5.000000</td>\n",
              "      <td>45.410389</td>\n",
              "      <td>45.410389</td>\n",
              "    </tr>\n",
              "    <tr>\n",
              "      <th>4</th>\n",
              "      <td>2016-01-11 17:40:00</td>\n",
              "      <td>60</td>\n",
              "      <td>40</td>\n",
              "      <td>19.890000</td>\n",
              "      <td>46.333333</td>\n",
              "      <td>19.200000</td>\n",
              "      <td>44.530000</td>\n",
              "      <td>19.790000</td>\n",
              "      <td>45.000000</td>\n",
              "      <td>18.890000</td>\n",
              "      <td>45.530000</td>\n",
              "      <td>17.200000</td>\n",
              "      <td>55.090000</td>\n",
              "      <td>6.366667</td>\n",
              "      <td>84.893333</td>\n",
              "      <td>17.200000</td>\n",
              "      <td>41.230000</td>\n",
              "      <td>18.1000</td>\n",
              "      <td>48.590000</td>\n",
              "      <td>17.000000</td>\n",
              "      <td>45.4000</td>\n",
              "      <td>6.133333</td>\n",
              "      <td>733.9</td>\n",
              "      <td>92.000000</td>\n",
              "      <td>5.666667</td>\n",
              "      <td>47.666667</td>\n",
              "      <td>4.900000</td>\n",
              "      <td>10.084097</td>\n",
              "      <td>10.084097</td>\n",
              "    </tr>\n",
              "    <tr>\n",
              "      <th>...</th>\n",
              "      <td>...</td>\n",
              "      <td>...</td>\n",
              "      <td>...</td>\n",
              "      <td>...</td>\n",
              "      <td>...</td>\n",
              "      <td>...</td>\n",
              "      <td>...</td>\n",
              "      <td>...</td>\n",
              "      <td>...</td>\n",
              "      <td>...</td>\n",
              "      <td>...</td>\n",
              "      <td>...</td>\n",
              "      <td>...</td>\n",
              "      <td>...</td>\n",
              "      <td>...</td>\n",
              "      <td>...</td>\n",
              "      <td>...</td>\n",
              "      <td>...</td>\n",
              "      <td>...</td>\n",
              "      <td>...</td>\n",
              "      <td>...</td>\n",
              "      <td>...</td>\n",
              "      <td>...</td>\n",
              "      <td>...</td>\n",
              "      <td>...</td>\n",
              "      <td>...</td>\n",
              "      <td>...</td>\n",
              "      <td>...</td>\n",
              "      <td>...</td>\n",
              "    </tr>\n",
              "    <tr>\n",
              "      <th>19730</th>\n",
              "      <td>2016-05-27 17:20:00</td>\n",
              "      <td>100</td>\n",
              "      <td>0</td>\n",
              "      <td>25.566667</td>\n",
              "      <td>46.560000</td>\n",
              "      <td>25.890000</td>\n",
              "      <td>42.025714</td>\n",
              "      <td>27.200000</td>\n",
              "      <td>41.163333</td>\n",
              "      <td>24.700000</td>\n",
              "      <td>45.590000</td>\n",
              "      <td>23.200000</td>\n",
              "      <td>52.400000</td>\n",
              "      <td>24.796667</td>\n",
              "      <td>1.000000</td>\n",
              "      <td>24.500000</td>\n",
              "      <td>44.500000</td>\n",
              "      <td>24.7000</td>\n",
              "      <td>50.074000</td>\n",
              "      <td>23.200000</td>\n",
              "      <td>46.7900</td>\n",
              "      <td>22.733333</td>\n",
              "      <td>755.2</td>\n",
              "      <td>55.666667</td>\n",
              "      <td>3.333333</td>\n",
              "      <td>23.666667</td>\n",
              "      <td>13.333333</td>\n",
              "      <td>43.096812</td>\n",
              "      <td>43.096812</td>\n",
              "    </tr>\n",
              "    <tr>\n",
              "      <th>19731</th>\n",
              "      <td>2016-05-27 17:30:00</td>\n",
              "      <td>90</td>\n",
              "      <td>0</td>\n",
              "      <td>25.500000</td>\n",
              "      <td>46.500000</td>\n",
              "      <td>25.754000</td>\n",
              "      <td>42.080000</td>\n",
              "      <td>27.133333</td>\n",
              "      <td>41.223333</td>\n",
              "      <td>24.700000</td>\n",
              "      <td>45.590000</td>\n",
              "      <td>23.230000</td>\n",
              "      <td>52.326667</td>\n",
              "      <td>24.196667</td>\n",
              "      <td>1.000000</td>\n",
              "      <td>24.557143</td>\n",
              "      <td>44.414286</td>\n",
              "      <td>24.7000</td>\n",
              "      <td>49.790000</td>\n",
              "      <td>23.200000</td>\n",
              "      <td>46.7900</td>\n",
              "      <td>22.600000</td>\n",
              "      <td>755.2</td>\n",
              "      <td>56.000000</td>\n",
              "      <td>3.500000</td>\n",
              "      <td>24.500000</td>\n",
              "      <td>13.300000</td>\n",
              "      <td>49.282940</td>\n",
              "      <td>49.282940</td>\n",
              "    </tr>\n",
              "    <tr>\n",
              "      <th>19732</th>\n",
              "      <td>2016-05-27 17:40:00</td>\n",
              "      <td>270</td>\n",
              "      <td>10</td>\n",
              "      <td>25.500000</td>\n",
              "      <td>46.596667</td>\n",
              "      <td>25.628571</td>\n",
              "      <td>42.768571</td>\n",
              "      <td>27.050000</td>\n",
              "      <td>41.690000</td>\n",
              "      <td>24.700000</td>\n",
              "      <td>45.730000</td>\n",
              "      <td>23.230000</td>\n",
              "      <td>52.266667</td>\n",
              "      <td>23.626667</td>\n",
              "      <td>1.000000</td>\n",
              "      <td>24.540000</td>\n",
              "      <td>44.400000</td>\n",
              "      <td>24.7000</td>\n",
              "      <td>49.660000</td>\n",
              "      <td>23.200000</td>\n",
              "      <td>46.7900</td>\n",
              "      <td>22.466667</td>\n",
              "      <td>755.2</td>\n",
              "      <td>56.333333</td>\n",
              "      <td>3.666667</td>\n",
              "      <td>25.333333</td>\n",
              "      <td>13.266667</td>\n",
              "      <td>29.199117</td>\n",
              "      <td>29.199117</td>\n",
              "    </tr>\n",
              "    <tr>\n",
              "      <th>19733</th>\n",
              "      <td>2016-05-27 17:50:00</td>\n",
              "      <td>420</td>\n",
              "      <td>10</td>\n",
              "      <td>25.500000</td>\n",
              "      <td>46.990000</td>\n",
              "      <td>25.414000</td>\n",
              "      <td>43.036000</td>\n",
              "      <td>26.890000</td>\n",
              "      <td>41.290000</td>\n",
              "      <td>24.700000</td>\n",
              "      <td>45.790000</td>\n",
              "      <td>23.200000</td>\n",
              "      <td>52.200000</td>\n",
              "      <td>22.433333</td>\n",
              "      <td>1.000000</td>\n",
              "      <td>24.500000</td>\n",
              "      <td>44.295714</td>\n",
              "      <td>24.6625</td>\n",
              "      <td>49.518750</td>\n",
              "      <td>23.200000</td>\n",
              "      <td>46.8175</td>\n",
              "      <td>22.333333</td>\n",
              "      <td>755.2</td>\n",
              "      <td>56.666667</td>\n",
              "      <td>3.833333</td>\n",
              "      <td>26.166667</td>\n",
              "      <td>13.233333</td>\n",
              "      <td>6.322784</td>\n",
              "      <td>6.322784</td>\n",
              "    </tr>\n",
              "    <tr>\n",
              "      <th>19734</th>\n",
              "      <td>2016-05-27 18:00:00</td>\n",
              "      <td>430</td>\n",
              "      <td>10</td>\n",
              "      <td>25.500000</td>\n",
              "      <td>46.600000</td>\n",
              "      <td>25.264286</td>\n",
              "      <td>42.971429</td>\n",
              "      <td>26.823333</td>\n",
              "      <td>41.156667</td>\n",
              "      <td>24.700000</td>\n",
              "      <td>45.963333</td>\n",
              "      <td>23.200000</td>\n",
              "      <td>52.200000</td>\n",
              "      <td>21.026667</td>\n",
              "      <td>1.000000</td>\n",
              "      <td>24.500000</td>\n",
              "      <td>44.054000</td>\n",
              "      <td>24.7360</td>\n",
              "      <td>49.736000</td>\n",
              "      <td>23.200000</td>\n",
              "      <td>46.8450</td>\n",
              "      <td>22.200000</td>\n",
              "      <td>755.2</td>\n",
              "      <td>57.000000</td>\n",
              "      <td>4.000000</td>\n",
              "      <td>27.000000</td>\n",
              "      <td>13.200000</td>\n",
              "      <td>34.118851</td>\n",
              "      <td>34.118851</td>\n",
              "    </tr>\n",
              "  </tbody>\n",
              "</table>\n",
              "<p>19735 rows × 29 columns</p>\n",
              "</div>"
            ],
            "text/plain": [
              "                      date  Appliances  lights  ...  Tdewpoint        rv1        rv2\n",
              "0      2016-01-11 17:00:00          60      30  ...   5.300000  13.275433  13.275433\n",
              "1      2016-01-11 17:10:00          60      30  ...   5.200000  18.606195  18.606195\n",
              "2      2016-01-11 17:20:00          50      30  ...   5.100000  28.642668  28.642668\n",
              "3      2016-01-11 17:30:00          50      40  ...   5.000000  45.410389  45.410389\n",
              "4      2016-01-11 17:40:00          60      40  ...   4.900000  10.084097  10.084097\n",
              "...                    ...         ...     ...  ...        ...        ...        ...\n",
              "19730  2016-05-27 17:20:00         100       0  ...  13.333333  43.096812  43.096812\n",
              "19731  2016-05-27 17:30:00          90       0  ...  13.300000  49.282940  49.282940\n",
              "19732  2016-05-27 17:40:00         270      10  ...  13.266667  29.199117  29.199117\n",
              "19733  2016-05-27 17:50:00         420      10  ...  13.233333   6.322784   6.322784\n",
              "19734  2016-05-27 18:00:00         430      10  ...  13.200000  34.118851  34.118851\n",
              "\n",
              "[19735 rows x 29 columns]"
            ]
          },
          "metadata": {
            "tags": []
          },
          "execution_count": 87
        }
      ]
    },
    {
      "cell_type": "markdown",
      "metadata": {
        "id": "Zbrlr4oLnWm9"
      },
      "source": [
        "## 3.Exploratory Data Analysis"
      ]
    },
    {
      "cell_type": "code",
      "metadata": {
        "id": "1Cn92txojPs6"
      },
      "source": [
        "df['date'] = pd.to_datetime(df['date'] )"
      ],
      "execution_count": 88,
      "outputs": []
    },
    {
      "cell_type": "markdown",
      "metadata": {
        "id": "yFoYdZ9EndIg"
      },
      "source": [
        "**3.1 Checking Correlation between independent and dependent variables**"
      ]
    },
    {
      "cell_type": "code",
      "metadata": {
        "colab": {
          "base_uri": "https://localhost:8080/",
          "height": 654
        },
        "id": "-b7kOOjujUJj",
        "outputId": "e5da0f29-6187-473e-fb21-afa717a9e150"
      },
      "source": [
        "plt.figure(figsize=(15,10))\n",
        "sns.heatmap(df.corr(),cmap='coolwarm')\n",
        "plt.show()"
      ],
      "execution_count": 89,
      "outputs": [
        {
          "output_type": "display_data",
          "data": {
            "image/png": "[encoded data removed]",
            "text/plain": [
              "<Figure size 1080x720 with 2 Axes>"
            ]
          },
          "metadata": {
            "tags": [],
            "needs_background": "light"
          }
        }
      ]
    },
    {
      "cell_type": "markdown",
      "metadata": {
        "id": "SH1UmN5jnxgZ"
      },
      "source": [
        "**Observation**\n",
        "1. Temperature and Humidity values are highly correlated with each other respectively\n",
        "\n",
        "2. Appliance value has neutral relation with other variables\n",
        "\n"
      ]
    },
    {
      "cell_type": "markdown",
      "metadata": {
        "id": "M0x8O3kPoY-N"
      },
      "source": [
        "**3.2 Checking Energy consumption with respect to time**"
      ]
    },
    {
      "cell_type": "code",
      "metadata": {
        "colab": {
          "base_uri": "https://localhost:8080/",
          "height": 623
        },
        "id": "RKRJ9LiOjXFA",
        "outputId": "b0ba75c7-9271-4e45-8ef7-5bd1d2acf6f2"
      },
      "source": [
        "plt.figure(figsize=(18,12))\n",
        "plt.plot(df.date,df.Appliances)\n",
        "plt.show()"
      ],
      "execution_count": 90,
      "outputs": [
        {
          "output_type": "display_data",
          "data": {
            "image/png": "[encoded data removed]",
            "text/plain": [
              "<Figure size 1296x864 with 1 Axes>"
            ]
          },
          "metadata": {
            "tags": [],
            "needs_background": "light"
          }
        }
      ]
    },
    {
      "cell_type": "markdown",
      "metadata": {
        "id": "fHopQOWhoihE"
      },
      "source": [
        "**Observation**\n",
        "\n",
        "- There is seasonality in energy consumption with respect to time.\n",
        " \n",
        "- Energy consumption shows periodic rise in value  "
      ]
    },
    {
      "cell_type": "markdown",
      "metadata": {
        "id": "MdErPnnypCY-"
      },
      "source": [
        "## 4.Data Preprocessing"
      ]
    },
    {
      "cell_type": "markdown",
      "metadata": {
        "id": "1Vabid9JpIQd"
      },
      "source": [
        "**4.1 Defining dataframe with selective variables which don't have high correlation with each other**"
      ]
    },
    {
      "cell_type": "code",
      "metadata": {
        "id": "IJgoH05pjcaB",
        "colab": {
          "base_uri": "https://localhost:8080/",
          "height": 204
        },
        "outputId": "51dff6e0-4026-4f82-daba-3b3c21d5a7b0"
      },
      "source": [
        "df1 = df[['Appliances','T1', 'RH_1','Press_mm_hg', 'RH_out', 'Windspeed']]\n",
        "df1.head()"
      ],
      "execution_count": 91,
      "outputs": [
        {
          "output_type": "execute_result",
          "data": {
            "text/html": [
              "<div>\n",
              "<style scoped>\n",
              "    .dataframe tbody tr th:only-of-type {\n",
              "        vertical-align: middle;\n",
              "    }\n",
              "\n",
              "    .dataframe tbody tr th {\n",
              "        vertical-align: top;\n",
              "    }\n",
              "\n",
              "    .dataframe thead th {\n",
              "        text-align: right;\n",
              "    }\n",
              "</style>\n",
              "<table border=\"1\" class=\"dataframe\">\n",
              "  <thead>\n",
              "    <tr style=\"text-align: right;\">\n",
              "      <th></th>\n",
              "      <th>Appliances</th>\n",
              "      <th>T1</th>\n",
              "      <th>RH_1</th>\n",
              "      <th>Press_mm_hg</th>\n",
              "      <th>RH_out</th>\n",
              "      <th>Windspeed</th>\n",
              "    </tr>\n",
              "  </thead>\n",
              "  <tbody>\n",
              "    <tr>\n",
              "      <th>0</th>\n",
              "      <td>60</td>\n",
              "      <td>19.89</td>\n",
              "      <td>47.596667</td>\n",
              "      <td>733.5</td>\n",
              "      <td>92.0</td>\n",
              "      <td>7.000000</td>\n",
              "    </tr>\n",
              "    <tr>\n",
              "      <th>1</th>\n",
              "      <td>60</td>\n",
              "      <td>19.89</td>\n",
              "      <td>46.693333</td>\n",
              "      <td>733.6</td>\n",
              "      <td>92.0</td>\n",
              "      <td>6.666667</td>\n",
              "    </tr>\n",
              "    <tr>\n",
              "      <th>2</th>\n",
              "      <td>50</td>\n",
              "      <td>19.89</td>\n",
              "      <td>46.300000</td>\n",
              "      <td>733.7</td>\n",
              "      <td>92.0</td>\n",
              "      <td>6.333333</td>\n",
              "    </tr>\n",
              "    <tr>\n",
              "      <th>3</th>\n",
              "      <td>50</td>\n",
              "      <td>19.89</td>\n",
              "      <td>46.066667</td>\n",
              "      <td>733.8</td>\n",
              "      <td>92.0</td>\n",
              "      <td>6.000000</td>\n",
              "    </tr>\n",
              "    <tr>\n",
              "      <th>4</th>\n",
              "      <td>60</td>\n",
              "      <td>19.89</td>\n",
              "      <td>46.333333</td>\n",
              "      <td>733.9</td>\n",
              "      <td>92.0</td>\n",
              "      <td>5.666667</td>\n",
              "    </tr>\n",
              "  </tbody>\n",
              "</table>\n",
              "</div>"
            ],
            "text/plain": [
              "   Appliances     T1       RH_1  Press_mm_hg  RH_out  Windspeed\n",
              "0          60  19.89  47.596667        733.5    92.0   7.000000\n",
              "1          60  19.89  46.693333        733.6    92.0   6.666667\n",
              "2          50  19.89  46.300000        733.7    92.0   6.333333\n",
              "3          50  19.89  46.066667        733.8    92.0   6.000000\n",
              "4          60  19.89  46.333333        733.9    92.0   5.666667"
            ]
          },
          "metadata": {
            "tags": []
          },
          "execution_count": 91
        }
      ]
    },
    {
      "cell_type": "markdown",
      "metadata": {
        "id": "rcOaU71ppqpS"
      },
      "source": [
        "**4.2 Scalling Datapoints with MinMaxScaler**"
      ]
    },
    {
      "cell_type": "code",
      "metadata": {
        "id": "bCsltMscjhYl"
      },
      "source": [
        "from sklearn.preprocessing import MinMaxScaler\n",
        "sc = MinMaxScaler()"
      ],
      "execution_count": 92,
      "outputs": []
    },
    {
      "cell_type": "code",
      "metadata": {
        "id": "qbqkxT04jnR8",
        "colab": {
          "base_uri": "https://localhost:8080/"
        },
        "outputId": "dc6cc1cc-58a0-480c-f3d6-371f44cf6f5e"
      },
      "source": [
        "df1 = sc.fit_transform(df1)\n",
        "df1"
      ],
      "execution_count": 93,
      "outputs": [
        {
          "output_type": "execute_result",
          "data": {
            "text/plain": [
              "array([[0.04672897, 0.32734952, 0.56618659, 0.09767442, 0.89473684,\n",
              "        0.5       ],\n",
              "       [0.04672897, 0.32734952, 0.54132648, 0.1       , 0.89473684,\n",
              "        0.47619048],\n",
              "       [0.03738318, 0.32734952, 0.53050179, 0.10232558, 0.89473684,\n",
              "        0.45238095],\n",
              "       ...,\n",
              "       [0.24299065, 0.91974657, 0.53866618, 0.60232558, 0.4254386 ,\n",
              "        0.26190476],\n",
              "       [0.38317757, 0.91974657, 0.54949087, 0.60232558, 0.42982456,\n",
              "        0.27380952],\n",
              "       [0.39252336, 0.91974657, 0.53875791, 0.60232558, 0.43421053,\n",
              "        0.28571429]])"
            ]
          },
          "metadata": {
            "tags": []
          },
          "execution_count": 93
        }
      ]
    },
    {
      "cell_type": "markdown",
      "metadata": {
        "id": "J6XQz1MGp8qc"
      },
      "source": [
        "**4.2 Defining Independent and Target Variable**"
      ]
    },
    {
      "cell_type": "code",
      "metadata": {
        "id": "1L8NK1Vijpma"
      },
      "source": [
        "X = df1\n",
        "y = df1[:,0]"
      ],
      "execution_count": 94,
      "outputs": []
    },
    {
      "cell_type": "markdown",
      "metadata": {
        "id": "YM2905ouq4Dt"
      },
      "source": [
        "**4.3 Dividing the dataset into Training and Testing Dataset**"
      ]
    },
    {
      "cell_type": "code",
      "metadata": {
        "id": "FDANM9tdjuO4"
      },
      "source": [
        "from sklearn.model_selection import train_test_split\n",
        "X_train, X_test, y_train, y_test = train_test_split(X, y, test_size=0.3, random_state=42, shuffle = False)"
      ],
      "execution_count": 95,
      "outputs": []
    },
    {
      "cell_type": "code",
      "metadata": {
        "colab": {
          "base_uri": "https://localhost:8080/"
        },
        "id": "WCGzrlOvRFvv",
        "outputId": "982744a6-49e3-4636-87e4-63a325797dc2"
      },
      "source": [
        "X_train.shape"
      ],
      "execution_count": 96,
      "outputs": [
        {
          "output_type": "execute_result",
          "data": {
            "text/plain": [
              "(13814, 6)"
            ]
          },
          "metadata": {
            "tags": []
          },
          "execution_count": 96
        }
      ]
    },
    {
      "cell_type": "code",
      "metadata": {
        "colab": {
          "base_uri": "https://localhost:8080/"
        },
        "id": "tBXxbfupVR8X",
        "outputId": "67e31014-3f64-4b7b-81b3-727ebcf89544"
      },
      "source": [
        "X_test.shape"
      ],
      "execution_count": 97,
      "outputs": [
        {
          "output_type": "execute_result",
          "data": {
            "text/plain": [
              "(5921, 6)"
            ]
          },
          "metadata": {
            "tags": []
          },
          "execution_count": 97
        }
      ]
    },
    {
      "cell_type": "markdown",
      "metadata": {
        "id": "EAvyQNhIr8RV"
      },
      "source": [
        " ## 5.Creating a data structure "
      ]
    },
    {
      "cell_type": "markdown",
      "metadata": {
        "id": "_vtEXKnrsSmi"
      },
      "source": [
        "**5.1 Importing TimeseriesGenerator**"
      ]
    },
    {
      "cell_type": "code",
      "metadata": {
        "id": "iIcsQssCjxEN"
      },
      "source": [
        "from tensorflow.keras.preprocessing.sequence import TimeseriesGenerator "
      ],
      "execution_count": 20,
      "outputs": []
    },
    {
      "cell_type": "markdown",
      "metadata": {
        "id": "Iz-lbEhssU97"
      },
      "source": [
        "**5.2 Using 280 Time steps with single sampling rate to prepare data structure**"
      ]
    },
    {
      "cell_type": "code",
      "metadata": {
        "id": "1b3U8MC3WERC"
      },
      "source": [
        "Time_stamps = 280\n",
        "features = 6"
      ],
      "execution_count": 21,
      "outputs": []
    },
    {
      "cell_type": "code",
      "metadata": {
        "id": "sTdicnqij0S5"
      },
      "source": [
        "Train_set = TimeseriesGenerator(X_train, y_train,\n",
        "                               length=Time_stamps, sampling_rate=1,\n",
        "                               batch_size=32)"
      ],
      "execution_count": 22,
      "outputs": []
    },
    {
      "cell_type": "code",
      "metadata": {
        "id": "Rrf1i-Cyj3F8"
      },
      "source": [
        "Test_set = TimeseriesGenerator(X_test, y_test,\n",
        "                               length=Time_stamps, sampling_rate=1,\n",
        "                               batch_size=32)"
      ],
      "execution_count": 24,
      "outputs": []
    },
    {
      "cell_type": "markdown",
      "metadata": {
        "id": "TjVNytFlsvfd"
      },
      "source": [
        " ## 6.Building and Training the RNN"
      ]
    },
    {
      "cell_type": "markdown",
      "metadata": {
        "id": "aFFaKsgrs4cH"
      },
      "source": [
        "**6.1 Importing the Keras libraries and packages**"
      ]
    },
    {
      "cell_type": "code",
      "metadata": {
        "id": "f7jWLvEvj7uF"
      },
      "source": [
        "from tensorflow.keras.layers import Dense,Activation,LSTM,Dropout\n",
        "from tensorflow.keras.models import Sequential\n",
        "model = Sequential()\n"
      ],
      "execution_count": 99,
      "outputs": []
    },
    {
      "cell_type": "markdown",
      "metadata": {
        "id": "tMJMNkPBtCbb"
      },
      "source": [
        "**6.2 Adding the LSTM layers and some Dropout regularisation**"
      ]
    },
    {
      "cell_type": "code",
      "metadata": {
        "id": "euVgq7-ikDdJ"
      },
      "source": [
        "## first layer of lstm\n",
        "model.add(LSTM(130,input_shape = (Time_stamps, features),return_sequences= True))\n",
        "model.add(Dropout(0.2))\n",
        "\n",
        "## Second layer of lstm\n",
        "model.add(LSTM(130,return_sequences= True))\n",
        "model.add(Dropout(0.2))\n",
        "\n",
        "## Third layer of lstm\n",
        "model.add(LSTM(130,return_sequences= True))\n",
        "model.add(Dropout(0.2))\n",
        "\n",
        "## forth layer of lstm\n",
        "model.add(LSTM(130))\n",
        "model.add(Dropout(0.2))\n",
        "\n",
        "model.add(Dense(1))\n",
        "\n"
      ],
      "execution_count": 27,
      "outputs": []
    },
    {
      "cell_type": "code",
      "metadata": {
        "colab": {
          "base_uri": "https://localhost:8080/"
        },
        "id": "OkyWrjTkK1Pf",
        "outputId": "b86184e5-5157-4e36-ece7-a05378e38a76"
      },
      "source": [
        "model.summary()"
      ],
      "execution_count": 28,
      "outputs": [
        {
          "output_type": "stream",
          "text": [
            "Model: \"sequential\"\n",
            "_________________________________________________________________\n",
            "Layer (type)                 Output Shape              Param #   \n",
            "=================================================================\n",
            "lstm (LSTM)                  (None, 280, 130)          71240     \n",
            "_________________________________________________________________\n",
            "dropout (Dropout)            (None, 280, 130)          0         \n",
            "_________________________________________________________________\n",
            "lstm_1 (LSTM)                (None, 280, 130)          135720    \n",
            "_________________________________________________________________\n",
            "dropout_1 (Dropout)          (None, 280, 130)          0         \n",
            "_________________________________________________________________\n",
            "lstm_2 (LSTM)                (None, 280, 130)          135720    \n",
            "_________________________________________________________________\n",
            "dropout_2 (Dropout)          (None, 280, 130)          0         \n",
            "_________________________________________________________________\n",
            "lstm_3 (LSTM)                (None, 130)               135720    \n",
            "_________________________________________________________________\n",
            "dropout_3 (Dropout)          (None, 130)               0         \n",
            "_________________________________________________________________\n",
            "dense (Dense)                (None, 1)                 131       \n",
            "=================================================================\n",
            "Total params: 478,531\n",
            "Trainable params: 478,531\n",
            "Non-trainable params: 0\n",
            "_________________________________________________________________\n"
          ],
          "name": "stdout"
        }
      ]
    },
    {
      "cell_type": "markdown",
      "metadata": {
        "id": "y7rZmZjkwNyQ"
      },
      "source": [
        "**6.3 Compiling the RNN**"
      ]
    },
    {
      "cell_type": "code",
      "metadata": {
        "id": "ZLX1eud0kGKT"
      },
      "source": [
        "model.compile( optimizer='rmsprop', loss = 'mean_squared_error')"
      ],
      "execution_count": 29,
      "outputs": []
    },
    {
      "cell_type": "markdown",
      "metadata": {
        "id": "du-MtS5LwR3K"
      },
      "source": [
        "## 7.Model Fitting and Prediction "
      ]
    },
    {
      "cell_type": "markdown",
      "metadata": {
        "id": "fMM-Mob6wgVV"
      },
      "source": [
        "**7.1 Fitting model on Train_Set and validating with Test_set**"
      ]
    },
    {
      "cell_type": "code",
      "metadata": {
        "colab": {
          "base_uri": "https://localhost:8080/"
        },
        "id": "i9HxxP7pm1qB",
        "outputId": "7d3cab1d-f520-4fb1-dfb4-159f93164b6a"
      },
      "source": [
        "model.fit_generator(Train_set,epochs=15,validation_data= Test_set, shuffle= False)"
      ],
      "execution_count": 31,
      "outputs": [
        {
          "output_type": "stream",
          "text": [
            "Epoch 1/15\n",
            "423/423 [==============================] - 33s 77ms/step - loss: 0.0071 - val_loss: 0.0041\n",
            "Epoch 2/15\n",
            "423/423 [==============================] - 31s 74ms/step - loss: 0.0049 - val_loss: 0.0038\n",
            "Epoch 3/15\n",
            "423/423 [==============================] - 31s 74ms/step - loss: 0.0046 - val_loss: 0.0034\n",
            "Epoch 4/15\n",
            "423/423 [==============================] - 31s 74ms/step - loss: 0.0045 - val_loss: 0.0032\n",
            "Epoch 5/15\n",
            "423/423 [==============================] - 31s 74ms/step - loss: 0.0044 - val_loss: 0.0031\n",
            "Epoch 6/15\n",
            "423/423 [==============================] - 31s 74ms/step - loss: 0.0044 - val_loss: 0.0032\n",
            "Epoch 7/15\n",
            "423/423 [==============================] - 31s 74ms/step - loss: 0.0044 - val_loss: 0.0033\n",
            "Epoch 8/15\n",
            "423/423 [==============================] - 31s 74ms/step - loss: 0.0043 - val_loss: 0.0031\n",
            "Epoch 9/15\n",
            "423/423 [==============================] - 31s 74ms/step - loss: 0.0043 - val_loss: 0.0031\n",
            "Epoch 10/15\n",
            "423/423 [==============================] - 31s 74ms/step - loss: 0.0043 - val_loss: 0.0031\n",
            "Epoch 11/15\n",
            "423/423 [==============================] - 31s 74ms/step - loss: 0.0042 - val_loss: 0.0031\n",
            "Epoch 12/15\n",
            "423/423 [==============================] - 31s 74ms/step - loss: 0.0042 - val_loss: 0.0031\n",
            "Epoch 13/15\n",
            "423/423 [==============================] - 31s 74ms/step - loss: 0.0042 - val_loss: 0.0031\n",
            "Epoch 14/15\n",
            "423/423 [==============================] - 31s 74ms/step - loss: 0.0042 - val_loss: 0.0031\n",
            "Epoch 15/15\n",
            "423/423 [==============================] - 31s 74ms/step - loss: 0.0041 - val_loss: 0.0031\n"
          ],
          "name": "stdout"
        },
        {
          "output_type": "execute_result",
          "data": {
            "text/plain": [
              "<tensorflow.python.keras.callbacks.History at 0x7f21ff7eccc0>"
            ]
          },
          "metadata": {
            "tags": []
          },
          "execution_count": 31
        }
      ]
    },
    {
      "cell_type": "markdown",
      "metadata": {
        "id": "TfJRRUhWw79Q"
      },
      "source": [
        "**7.2 Predicting Values for Test_set**"
      ]
    },
    {
      "cell_type": "code",
      "metadata": {
        "colab": {
          "base_uri": "https://localhost:8080/"
        },
        "id": "UDPD3Si6sYzm",
        "outputId": "45d53b87-03fb-4757-be9e-e9c8bda293e5"
      },
      "source": [
        "predictions = model.predict_generator(Test_set)"
      ],
      "execution_count": 32,
      "outputs": [
        {
          "output_type": "stream",
          "text": [
            "WARNING:tensorflow:From <ipython-input-32-089d6adafe23>:1: Model.predict_generator (from tensorflow.python.keras.engine.training) is deprecated and will be removed in a future version.\n",
            "Instructions for updating:\n",
            "Please use Model.predict, which supports generators.\n"
          ],
          "name": "stdout"
        }
      ]
    },
    {
      "cell_type": "code",
      "metadata": {
        "colab": {
          "base_uri": "https://localhost:8080/"
        },
        "id": "Pt40eyB_s4jm",
        "outputId": "9e0e7134-15c1-4a35-d023-596f6d1b0f7a"
      },
      "source": [
        "predictions.shape"
      ],
      "execution_count": 33,
      "outputs": [
        {
          "output_type": "execute_result",
          "data": {
            "text/plain": [
              "(5641, 1)"
            ]
          },
          "metadata": {
            "tags": []
          },
          "execution_count": 33
        }
      ]
    },
    {
      "cell_type": "code",
      "metadata": {
        "colab": {
          "base_uri": "https://localhost:8080/"
        },
        "id": "60tK7V0Rs8QE",
        "outputId": "97e3dcc5-1750-48da-abeb-9767c7fb9037"
      },
      "source": [
        "y_test.shape"
      ],
      "execution_count": 35,
      "outputs": [
        {
          "output_type": "execute_result",
          "data": {
            "text/plain": [
              "(5921,)"
            ]
          },
          "metadata": {
            "tags": []
          },
          "execution_count": 35
        }
      ]
    },
    {
      "cell_type": "code",
      "metadata": {
        "colab": {
          "base_uri": "https://localhost:8080/",
          "height": 204
        },
        "id": "i5nviv7rORN3",
        "outputId": "4e45fd10-3aab-4b31-8951-d1cdcb86ebe5"
      },
      "source": [
        "pred_df = pd.DataFrame(predictions)\n",
        "pred_df.head()"
      ],
      "execution_count": 37,
      "outputs": [
        {
          "output_type": "execute_result",
          "data": {
            "text/html": [
              "<div>\n",
              "<style scoped>\n",
              "    .dataframe tbody tr th:only-of-type {\n",
              "        vertical-align: middle;\n",
              "    }\n",
              "\n",
              "    .dataframe tbody tr th {\n",
              "        vertical-align: top;\n",
              "    }\n",
              "\n",
              "    .dataframe thead th {\n",
              "        text-align: right;\n",
              "    }\n",
              "</style>\n",
              "<table border=\"1\" class=\"dataframe\">\n",
              "  <thead>\n",
              "    <tr style=\"text-align: right;\">\n",
              "      <th></th>\n",
              "      <th>0</th>\n",
              "    </tr>\n",
              "  </thead>\n",
              "  <tbody>\n",
              "    <tr>\n",
              "      <th>0</th>\n",
              "      <td>0.062587</td>\n",
              "    </tr>\n",
              "    <tr>\n",
              "      <th>1</th>\n",
              "      <td>0.039691</td>\n",
              "    </tr>\n",
              "    <tr>\n",
              "      <th>2</th>\n",
              "      <td>0.061688</td>\n",
              "    </tr>\n",
              "    <tr>\n",
              "      <th>3</th>\n",
              "      <td>0.033935</td>\n",
              "    </tr>\n",
              "    <tr>\n",
              "      <th>4</th>\n",
              "      <td>0.034547</td>\n",
              "    </tr>\n",
              "  </tbody>\n",
              "</table>\n",
              "</div>"
            ],
            "text/plain": [
              "          0\n",
              "0  0.062587\n",
              "1  0.039691\n",
              "2  0.061688\n",
              "3  0.033935\n",
              "4  0.034547"
            ]
          },
          "metadata": {
            "tags": []
          },
          "execution_count": 37
        }
      ]
    },
    {
      "cell_type": "code",
      "metadata": {
        "colab": {
          "base_uri": "https://localhost:8080/",
          "height": 204
        },
        "id": "NYTJDma2TdYc",
        "outputId": "a3e6f8e8-0b07-4ae7-ec89-36b0905256d6"
      },
      "source": [
        "y_test_df = pd.DataFrame(y_test[280:])\n",
        "y_test_df.head()\n"
      ],
      "execution_count": 70,
      "outputs": [
        {
          "output_type": "execute_result",
          "data": {
            "text/html": [
              "<div>\n",
              "<style scoped>\n",
              "    .dataframe tbody tr th:only-of-type {\n",
              "        vertical-align: middle;\n",
              "    }\n",
              "\n",
              "    .dataframe tbody tr th {\n",
              "        vertical-align: top;\n",
              "    }\n",
              "\n",
              "    .dataframe thead th {\n",
              "        text-align: right;\n",
              "    }\n",
              "</style>\n",
              "<table border=\"1\" class=\"dataframe\">\n",
              "  <thead>\n",
              "    <tr style=\"text-align: right;\">\n",
              "      <th></th>\n",
              "      <th>0</th>\n",
              "    </tr>\n",
              "  </thead>\n",
              "  <tbody>\n",
              "    <tr>\n",
              "      <th>0</th>\n",
              "      <td>0.028037</td>\n",
              "    </tr>\n",
              "    <tr>\n",
              "      <th>1</th>\n",
              "      <td>0.046729</td>\n",
              "    </tr>\n",
              "    <tr>\n",
              "      <th>2</th>\n",
              "      <td>0.018692</td>\n",
              "    </tr>\n",
              "    <tr>\n",
              "      <th>3</th>\n",
              "      <td>0.018692</td>\n",
              "    </tr>\n",
              "    <tr>\n",
              "      <th>4</th>\n",
              "      <td>0.028037</td>\n",
              "    </tr>\n",
              "  </tbody>\n",
              "</table>\n",
              "</div>"
            ],
            "text/plain": [
              "          0\n",
              "0  0.028037\n",
              "1  0.046729\n",
              "2  0.018692\n",
              "3  0.018692\n",
              "4  0.028037"
            ]
          },
          "metadata": {
            "tags": []
          },
          "execution_count": 70
        }
      ]
    },
    {
      "cell_type": "code",
      "metadata": {
        "colab": {
          "base_uri": "https://localhost:8080/",
          "height": 204
        },
        "id": "QTvrqCp8Of-O",
        "outputId": "56634f9a-8050-4447-add4-aa38f53b7f3c"
      },
      "source": [
        "test_df = pd.DataFrame(X_test[:,1:][Time_stamps:])\n",
        "test_df.head()"
      ],
      "execution_count": 58,
      "outputs": [
        {
          "output_type": "execute_result",
          "data": {
            "text/html": [
              "<div>\n",
              "<style scoped>\n",
              "    .dataframe tbody tr th:only-of-type {\n",
              "        vertical-align: middle;\n",
              "    }\n",
              "\n",
              "    .dataframe tbody tr th {\n",
              "        vertical-align: top;\n",
              "    }\n",
              "\n",
              "    .dataframe thead th {\n",
              "        text-align: right;\n",
              "    }\n",
              "</style>\n",
              "<table border=\"1\" class=\"dataframe\">\n",
              "  <thead>\n",
              "    <tr style=\"text-align: right;\">\n",
              "      <th></th>\n",
              "      <th>0</th>\n",
              "      <th>1</th>\n",
              "      <th>2</th>\n",
              "      <th>3</th>\n",
              "      <th>4</th>\n",
              "    </tr>\n",
              "  </thead>\n",
              "  <tbody>\n",
              "    <tr>\n",
              "      <th>0</th>\n",
              "      <td>0.535023</td>\n",
              "      <td>0.238785</td>\n",
              "      <td>0.762791</td>\n",
              "      <td>0.394737</td>\n",
              "      <td>0.285714</td>\n",
              "    </tr>\n",
              "    <tr>\n",
              "      <th>1</th>\n",
              "      <td>0.527983</td>\n",
              "      <td>0.235758</td>\n",
              "      <td>0.763178</td>\n",
              "      <td>0.392544</td>\n",
              "      <td>0.285714</td>\n",
              "    </tr>\n",
              "    <tr>\n",
              "      <th>2</th>\n",
              "      <td>0.527983</td>\n",
              "      <td>0.234107</td>\n",
              "      <td>0.763566</td>\n",
              "      <td>0.390351</td>\n",
              "      <td>0.285714</td>\n",
              "    </tr>\n",
              "    <tr>\n",
              "      <th>3</th>\n",
              "      <td>0.527983</td>\n",
              "      <td>0.232364</td>\n",
              "      <td>0.763953</td>\n",
              "      <td>0.388158</td>\n",
              "      <td>0.285714</td>\n",
              "    </tr>\n",
              "    <tr>\n",
              "      <th>4</th>\n",
              "      <td>0.527983</td>\n",
              "      <td>0.230529</td>\n",
              "      <td>0.764341</td>\n",
              "      <td>0.385965</td>\n",
              "      <td>0.285714</td>\n",
              "    </tr>\n",
              "  </tbody>\n",
              "</table>\n",
              "</div>"
            ],
            "text/plain": [
              "          0         1         2         3         4\n",
              "0  0.535023  0.238785  0.762791  0.394737  0.285714\n",
              "1  0.527983  0.235758  0.763178  0.392544  0.285714\n",
              "2  0.527983  0.234107  0.763566  0.390351  0.285714\n",
              "3  0.527983  0.232364  0.763953  0.388158  0.285714\n",
              "4  0.527983  0.230529  0.764341  0.385965  0.285714"
            ]
          },
          "metadata": {
            "tags": []
          },
          "execution_count": 58
        }
      ]
    },
    {
      "cell_type": "code",
      "metadata": {
        "colab": {
          "base_uri": "https://localhost:8080/"
        },
        "id": "Ga4a1RejPBAc",
        "outputId": "294cf6b5-b9d4-4af6-c18f-57eef7181f37"
      },
      "source": [
        "test_df.shape"
      ],
      "execution_count": 59,
      "outputs": [
        {
          "output_type": "execute_result",
          "data": {
            "text/plain": [
              "(5641, 5)"
            ]
          },
          "metadata": {
            "tags": []
          },
          "execution_count": 59
        }
      ]
    },
    {
      "cell_type": "code",
      "metadata": {
        "colab": {
          "base_uri": "https://localhost:8080/",
          "height": 204
        },
        "id": "W1d7Zi8zPNH1",
        "outputId": "30b7d64b-7abf-4b81-c659-b7ed096f244f"
      },
      "source": [
        "merged_df = pd.concat([pred_df,test_df],axis=1)\n",
        "merged_df.head()"
      ],
      "execution_count": 73,
      "outputs": [
        {
          "output_type": "execute_result",
          "data": {
            "text/html": [
              "<div>\n",
              "<style scoped>\n",
              "    .dataframe tbody tr th:only-of-type {\n",
              "        vertical-align: middle;\n",
              "    }\n",
              "\n",
              "    .dataframe tbody tr th {\n",
              "        vertical-align: top;\n",
              "    }\n",
              "\n",
              "    .dataframe thead th {\n",
              "        text-align: right;\n",
              "    }\n",
              "</style>\n",
              "<table border=\"1\" class=\"dataframe\">\n",
              "  <thead>\n",
              "    <tr style=\"text-align: right;\">\n",
              "      <th></th>\n",
              "      <th>0</th>\n",
              "      <th>0</th>\n",
              "      <th>1</th>\n",
              "      <th>2</th>\n",
              "      <th>3</th>\n",
              "      <th>4</th>\n",
              "    </tr>\n",
              "  </thead>\n",
              "  <tbody>\n",
              "    <tr>\n",
              "      <th>0</th>\n",
              "      <td>0.062587</td>\n",
              "      <td>0.535023</td>\n",
              "      <td>0.238785</td>\n",
              "      <td>0.762791</td>\n",
              "      <td>0.394737</td>\n",
              "      <td>0.285714</td>\n",
              "    </tr>\n",
              "    <tr>\n",
              "      <th>1</th>\n",
              "      <td>0.039691</td>\n",
              "      <td>0.527983</td>\n",
              "      <td>0.235758</td>\n",
              "      <td>0.763178</td>\n",
              "      <td>0.392544</td>\n",
              "      <td>0.285714</td>\n",
              "    </tr>\n",
              "    <tr>\n",
              "      <th>2</th>\n",
              "      <td>0.061688</td>\n",
              "      <td>0.527983</td>\n",
              "      <td>0.234107</td>\n",
              "      <td>0.763566</td>\n",
              "      <td>0.390351</td>\n",
              "      <td>0.285714</td>\n",
              "    </tr>\n",
              "    <tr>\n",
              "      <th>3</th>\n",
              "      <td>0.033935</td>\n",
              "      <td>0.527983</td>\n",
              "      <td>0.232364</td>\n",
              "      <td>0.763953</td>\n",
              "      <td>0.388158</td>\n",
              "      <td>0.285714</td>\n",
              "    </tr>\n",
              "    <tr>\n",
              "      <th>4</th>\n",
              "      <td>0.034547</td>\n",
              "      <td>0.527983</td>\n",
              "      <td>0.230529</td>\n",
              "      <td>0.764341</td>\n",
              "      <td>0.385965</td>\n",
              "      <td>0.285714</td>\n",
              "    </tr>\n",
              "  </tbody>\n",
              "</table>\n",
              "</div>"
            ],
            "text/plain": [
              "          0         0         1         2         3         4\n",
              "0  0.062587  0.535023  0.238785  0.762791  0.394737  0.285714\n",
              "1  0.039691  0.527983  0.235758  0.763178  0.392544  0.285714\n",
              "2  0.061688  0.527983  0.234107  0.763566  0.390351  0.285714\n",
              "3  0.033935  0.527983  0.232364  0.763953  0.388158  0.285714\n",
              "4  0.034547  0.527983  0.230529  0.764341  0.385965  0.285714"
            ]
          },
          "metadata": {
            "tags": []
          },
          "execution_count": 73
        }
      ]
    },
    {
      "cell_type": "code",
      "metadata": {
        "colab": {
          "base_uri": "https://localhost:8080/",
          "height": 204
        },
        "id": "G9SIiflpTxYu",
        "outputId": "2308f0b6-78fb-4b90-d69f-1cf56c858f95"
      },
      "source": [
        "merged_df2 = pd.concat([y_test_df,test_df],axis=1)\n",
        "merged_df2.head()"
      ],
      "execution_count": 72,
      "outputs": [
        {
          "output_type": "execute_result",
          "data": {
            "text/html": [
              "<div>\n",
              "<style scoped>\n",
              "    .dataframe tbody tr th:only-of-type {\n",
              "        vertical-align: middle;\n",
              "    }\n",
              "\n",
              "    .dataframe tbody tr th {\n",
              "        vertical-align: top;\n",
              "    }\n",
              "\n",
              "    .dataframe thead th {\n",
              "        text-align: right;\n",
              "    }\n",
              "</style>\n",
              "<table border=\"1\" class=\"dataframe\">\n",
              "  <thead>\n",
              "    <tr style=\"text-align: right;\">\n",
              "      <th></th>\n",
              "      <th>0</th>\n",
              "      <th>0</th>\n",
              "      <th>1</th>\n",
              "      <th>2</th>\n",
              "      <th>3</th>\n",
              "      <th>4</th>\n",
              "    </tr>\n",
              "  </thead>\n",
              "  <tbody>\n",
              "    <tr>\n",
              "      <th>0</th>\n",
              "      <td>0.028037</td>\n",
              "      <td>0.535023</td>\n",
              "      <td>0.238785</td>\n",
              "      <td>0.762791</td>\n",
              "      <td>0.394737</td>\n",
              "      <td>0.285714</td>\n",
              "    </tr>\n",
              "    <tr>\n",
              "      <th>1</th>\n",
              "      <td>0.046729</td>\n",
              "      <td>0.527983</td>\n",
              "      <td>0.235758</td>\n",
              "      <td>0.763178</td>\n",
              "      <td>0.392544</td>\n",
              "      <td>0.285714</td>\n",
              "    </tr>\n",
              "    <tr>\n",
              "      <th>2</th>\n",
              "      <td>0.018692</td>\n",
              "      <td>0.527983</td>\n",
              "      <td>0.234107</td>\n",
              "      <td>0.763566</td>\n",
              "      <td>0.390351</td>\n",
              "      <td>0.285714</td>\n",
              "    </tr>\n",
              "    <tr>\n",
              "      <th>3</th>\n",
              "      <td>0.018692</td>\n",
              "      <td>0.527983</td>\n",
              "      <td>0.232364</td>\n",
              "      <td>0.763953</td>\n",
              "      <td>0.388158</td>\n",
              "      <td>0.285714</td>\n",
              "    </tr>\n",
              "    <tr>\n",
              "      <th>4</th>\n",
              "      <td>0.028037</td>\n",
              "      <td>0.527983</td>\n",
              "      <td>0.230529</td>\n",
              "      <td>0.764341</td>\n",
              "      <td>0.385965</td>\n",
              "      <td>0.285714</td>\n",
              "    </tr>\n",
              "  </tbody>\n",
              "</table>\n",
              "</div>"
            ],
            "text/plain": [
              "          0         0         1         2         3         4\n",
              "0  0.028037  0.535023  0.238785  0.762791  0.394737  0.285714\n",
              "1  0.046729  0.527983  0.235758  0.763178  0.392544  0.285714\n",
              "2  0.018692  0.527983  0.234107  0.763566  0.390351  0.285714\n",
              "3  0.018692  0.527983  0.232364  0.763953  0.388158  0.285714\n",
              "4  0.028037  0.527983  0.230529  0.764341  0.385965  0.285714"
            ]
          },
          "metadata": {
            "tags": []
          },
          "execution_count": 72
        }
      ]
    },
    {
      "cell_type": "code",
      "metadata": {
        "colab": {
          "base_uri": "https://localhost:8080/"
        },
        "id": "1biH4Ud4PzXu",
        "outputId": "1d945788-f3b5-4d9f-8e41-e304728010b5"
      },
      "source": [
        "merged_df = sc.inverse_transform(merged_df)\n",
        "merged_df"
      ],
      "execution_count": 74,
      "outputs": [
        {
          "output_type": "execute_result",
          "data": {
            "text/plain": [
              "array([[ 76.96775563,  21.85666667,  35.7       , 762.1       ,\n",
              "         54.        ,   4.        ],\n",
              "       [ 52.46897664,  21.79      ,  35.59      , 762.11666667,\n",
              "         53.83333333,   4.        ],\n",
              "       [ 76.00568403,  21.79      ,  35.53      , 762.13333333,\n",
              "         53.66666667,   4.        ],\n",
              "       ...,\n",
              "       [ 83.15490298,  25.5       ,  46.59666667, 755.2       ,\n",
              "         56.33333333,   3.66666667],\n",
              "       [258.61997604,  25.5       ,  46.99      , 755.2       ,\n",
              "         56.66666667,   3.83333333],\n",
              "       [277.51128852,  25.5       ,  46.6       , 755.2       ,\n",
              "         57.        ,   4.        ]])"
            ]
          },
          "metadata": {
            "tags": []
          },
          "execution_count": 74
        }
      ]
    },
    {
      "cell_type": "code",
      "metadata": {
        "colab": {
          "base_uri": "https://localhost:8080/"
        },
        "id": "Zy7DHadgT_Mq",
        "outputId": "7e5cb813-a293-4643-fabd-d4bfbccc51b1"
      },
      "source": [
        "merged_df2 = sc.inverse_transform(merged_df2)\n",
        "merged_df2"
      ],
      "execution_count": 75,
      "outputs": [
        {
          "output_type": "execute_result",
          "data": {
            "text/plain": [
              "array([[ 40.        ,  21.85666667,  35.7       , 762.1       ,\n",
              "         54.        ,   4.        ],\n",
              "       [ 60.        ,  21.79      ,  35.59      , 762.11666667,\n",
              "         53.83333333,   4.        ],\n",
              "       [ 30.        ,  21.79      ,  35.53      , 762.13333333,\n",
              "         53.66666667,   4.        ],\n",
              "       ...,\n",
              "       [270.        ,  25.5       ,  46.59666667, 755.2       ,\n",
              "         56.33333333,   3.66666667],\n",
              "       [420.        ,  25.5       ,  46.99      , 755.2       ,\n",
              "         56.66666667,   3.83333333],\n",
              "       [430.        ,  25.5       ,  46.6       , 755.2       ,\n",
              "         57.        ,   4.        ]])"
            ]
          },
          "metadata": {
            "tags": []
          },
          "execution_count": 75
        }
      ]
    },
    {
      "cell_type": "code",
      "metadata": {
        "colab": {
          "base_uri": "https://localhost:8080/",
          "height": 204
        },
        "id": "m2UwcD_IRwOU",
        "outputId": "2c244497-1742-4a73-b532-81234f142cd9"
      },
      "source": [
        "Final_df = pd.DataFrame(merged_df)\n",
        "Final_df.columns = ['Predicted_value','T1', 'RH_1','Press_mm_hg', 'RH_out', 'Windspeed']\n",
        "Final_df.head()"
      ],
      "execution_count": 77,
      "outputs": [
        {
          "output_type": "execute_result",
          "data": {
            "text/html": [
              "<div>\n",
              "<style scoped>\n",
              "    .dataframe tbody tr th:only-of-type {\n",
              "        vertical-align: middle;\n",
              "    }\n",
              "\n",
              "    .dataframe tbody tr th {\n",
              "        vertical-align: top;\n",
              "    }\n",
              "\n",
              "    .dataframe thead th {\n",
              "        text-align: right;\n",
              "    }\n",
              "</style>\n",
              "<table border=\"1\" class=\"dataframe\">\n",
              "  <thead>\n",
              "    <tr style=\"text-align: right;\">\n",
              "      <th></th>\n",
              "      <th>Predicted_value</th>\n",
              "      <th>T1</th>\n",
              "      <th>RH_1</th>\n",
              "      <th>Press_mm_hg</th>\n",
              "      <th>RH_out</th>\n",
              "      <th>Windspeed</th>\n",
              "    </tr>\n",
              "  </thead>\n",
              "  <tbody>\n",
              "    <tr>\n",
              "      <th>0</th>\n",
              "      <td>76.967756</td>\n",
              "      <td>21.856667</td>\n",
              "      <td>35.700000</td>\n",
              "      <td>762.100000</td>\n",
              "      <td>54.000000</td>\n",
              "      <td>4.0</td>\n",
              "    </tr>\n",
              "    <tr>\n",
              "      <th>1</th>\n",
              "      <td>52.468977</td>\n",
              "      <td>21.790000</td>\n",
              "      <td>35.590000</td>\n",
              "      <td>762.116667</td>\n",
              "      <td>53.833333</td>\n",
              "      <td>4.0</td>\n",
              "    </tr>\n",
              "    <tr>\n",
              "      <th>2</th>\n",
              "      <td>76.005684</td>\n",
              "      <td>21.790000</td>\n",
              "      <td>35.530000</td>\n",
              "      <td>762.133333</td>\n",
              "      <td>53.666667</td>\n",
              "      <td>4.0</td>\n",
              "    </tr>\n",
              "    <tr>\n",
              "      <th>3</th>\n",
              "      <td>46.310174</td>\n",
              "      <td>21.790000</td>\n",
              "      <td>35.466667</td>\n",
              "      <td>762.150000</td>\n",
              "      <td>53.500000</td>\n",
              "      <td>4.0</td>\n",
              "    </tr>\n",
              "    <tr>\n",
              "      <th>4</th>\n",
              "      <td>46.965538</td>\n",
              "      <td>21.790000</td>\n",
              "      <td>35.400000</td>\n",
              "      <td>762.166667</td>\n",
              "      <td>53.333333</td>\n",
              "      <td>4.0</td>\n",
              "    </tr>\n",
              "  </tbody>\n",
              "</table>\n",
              "</div>"
            ],
            "text/plain": [
              "   Predicted_value         T1       RH_1  Press_mm_hg     RH_out  Windspeed\n",
              "0        76.967756  21.856667  35.700000   762.100000  54.000000        4.0\n",
              "1        52.468977  21.790000  35.590000   762.116667  53.833333        4.0\n",
              "2        76.005684  21.790000  35.530000   762.133333  53.666667        4.0\n",
              "3        46.310174  21.790000  35.466667   762.150000  53.500000        4.0\n",
              "4        46.965538  21.790000  35.400000   762.166667  53.333333        4.0"
            ]
          },
          "metadata": {
            "tags": []
          },
          "execution_count": 77
        }
      ]
    },
    {
      "cell_type": "code",
      "metadata": {
        "colab": {
          "base_uri": "https://localhost:8080/",
          "height": 204
        },
        "id": "NN_R4evkSNzG",
        "outputId": "92e0c1a6-455f-43c9-89ec-09eed6497f9b"
      },
      "source": [
        "Actual_df = pd.DataFrame(merged_df2)\n",
        "Actual_df.columns = ['Actual_value','T1', 'RH_1','Press_mm_hg', 'RH_out', 'Windspeed']\n",
        "Actual_df.head()"
      ],
      "execution_count": 79,
      "outputs": [
        {
          "output_type": "execute_result",
          "data": {
            "text/html": [
              "<div>\n",
              "<style scoped>\n",
              "    .dataframe tbody tr th:only-of-type {\n",
              "        vertical-align: middle;\n",
              "    }\n",
              "\n",
              "    .dataframe tbody tr th {\n",
              "        vertical-align: top;\n",
              "    }\n",
              "\n",
              "    .dataframe thead th {\n",
              "        text-align: right;\n",
              "    }\n",
              "</style>\n",
              "<table border=\"1\" class=\"dataframe\">\n",
              "  <thead>\n",
              "    <tr style=\"text-align: right;\">\n",
              "      <th></th>\n",
              "      <th>Actual_value</th>\n",
              "      <th>T1</th>\n",
              "      <th>RH_1</th>\n",
              "      <th>Press_mm_hg</th>\n",
              "      <th>RH_out</th>\n",
              "      <th>Windspeed</th>\n",
              "    </tr>\n",
              "  </thead>\n",
              "  <tbody>\n",
              "    <tr>\n",
              "      <th>0</th>\n",
              "      <td>40.0</td>\n",
              "      <td>21.856667</td>\n",
              "      <td>35.700000</td>\n",
              "      <td>762.100000</td>\n",
              "      <td>54.000000</td>\n",
              "      <td>4.0</td>\n",
              "    </tr>\n",
              "    <tr>\n",
              "      <th>1</th>\n",
              "      <td>60.0</td>\n",
              "      <td>21.790000</td>\n",
              "      <td>35.590000</td>\n",
              "      <td>762.116667</td>\n",
              "      <td>53.833333</td>\n",
              "      <td>4.0</td>\n",
              "    </tr>\n",
              "    <tr>\n",
              "      <th>2</th>\n",
              "      <td>30.0</td>\n",
              "      <td>21.790000</td>\n",
              "      <td>35.530000</td>\n",
              "      <td>762.133333</td>\n",
              "      <td>53.666667</td>\n",
              "      <td>4.0</td>\n",
              "    </tr>\n",
              "    <tr>\n",
              "      <th>3</th>\n",
              "      <td>30.0</td>\n",
              "      <td>21.790000</td>\n",
              "      <td>35.466667</td>\n",
              "      <td>762.150000</td>\n",
              "      <td>53.500000</td>\n",
              "      <td>4.0</td>\n",
              "    </tr>\n",
              "    <tr>\n",
              "      <th>4</th>\n",
              "      <td>40.0</td>\n",
              "      <td>21.790000</td>\n",
              "      <td>35.400000</td>\n",
              "      <td>762.166667</td>\n",
              "      <td>53.333333</td>\n",
              "      <td>4.0</td>\n",
              "    </tr>\n",
              "  </tbody>\n",
              "</table>\n",
              "</div>"
            ],
            "text/plain": [
              "   Actual_value         T1       RH_1  Press_mm_hg     RH_out  Windspeed\n",
              "0          40.0  21.856667  35.700000   762.100000  54.000000        4.0\n",
              "1          60.0  21.790000  35.590000   762.116667  53.833333        4.0\n",
              "2          30.0  21.790000  35.530000   762.133333  53.666667        4.0\n",
              "3          30.0  21.790000  35.466667   762.150000  53.500000        4.0\n",
              "4          40.0  21.790000  35.400000   762.166667  53.333333        4.0"
            ]
          },
          "metadata": {
            "tags": []
          },
          "execution_count": 79
        }
      ]
    },
    {
      "cell_type": "code",
      "metadata": {
        "colab": {
          "base_uri": "https://localhost:8080/",
          "height": 204
        },
        "id": "xcT1qRS4S2aS",
        "outputId": "2a615151-acd2-48af-88db-24b000acb6b9"
      },
      "source": [
        "Final_df['Actual_Value'] = Actual_df.Actual_value\n",
        "Final_df.head()"
      ],
      "execution_count": 80,
      "outputs": [
        {
          "output_type": "execute_result",
          "data": {
            "text/html": [
              "<div>\n",
              "<style scoped>\n",
              "    .dataframe tbody tr th:only-of-type {\n",
              "        vertical-align: middle;\n",
              "    }\n",
              "\n",
              "    .dataframe tbody tr th {\n",
              "        vertical-align: top;\n",
              "    }\n",
              "\n",
              "    .dataframe thead th {\n",
              "        text-align: right;\n",
              "    }\n",
              "</style>\n",
              "<table border=\"1\" class=\"dataframe\">\n",
              "  <thead>\n",
              "    <tr style=\"text-align: right;\">\n",
              "      <th></th>\n",
              "      <th>Predicted_value</th>\n",
              "      <th>T1</th>\n",
              "      <th>RH_1</th>\n",
              "      <th>Press_mm_hg</th>\n",
              "      <th>RH_out</th>\n",
              "      <th>Windspeed</th>\n",
              "      <th>Actual_Value</th>\n",
              "    </tr>\n",
              "  </thead>\n",
              "  <tbody>\n",
              "    <tr>\n",
              "      <th>0</th>\n",
              "      <td>76.967756</td>\n",
              "      <td>21.856667</td>\n",
              "      <td>35.700000</td>\n",
              "      <td>762.100000</td>\n",
              "      <td>54.000000</td>\n",
              "      <td>4.0</td>\n",
              "      <td>40.0</td>\n",
              "    </tr>\n",
              "    <tr>\n",
              "      <th>1</th>\n",
              "      <td>52.468977</td>\n",
              "      <td>21.790000</td>\n",
              "      <td>35.590000</td>\n",
              "      <td>762.116667</td>\n",
              "      <td>53.833333</td>\n",
              "      <td>4.0</td>\n",
              "      <td>60.0</td>\n",
              "    </tr>\n",
              "    <tr>\n",
              "      <th>2</th>\n",
              "      <td>76.005684</td>\n",
              "      <td>21.790000</td>\n",
              "      <td>35.530000</td>\n",
              "      <td>762.133333</td>\n",
              "      <td>53.666667</td>\n",
              "      <td>4.0</td>\n",
              "      <td>30.0</td>\n",
              "    </tr>\n",
              "    <tr>\n",
              "      <th>3</th>\n",
              "      <td>46.310174</td>\n",
              "      <td>21.790000</td>\n",
              "      <td>35.466667</td>\n",
              "      <td>762.150000</td>\n",
              "      <td>53.500000</td>\n",
              "      <td>4.0</td>\n",
              "      <td>30.0</td>\n",
              "    </tr>\n",
              "    <tr>\n",
              "      <th>4</th>\n",
              "      <td>46.965538</td>\n",
              "      <td>21.790000</td>\n",
              "      <td>35.400000</td>\n",
              "      <td>762.166667</td>\n",
              "      <td>53.333333</td>\n",
              "      <td>4.0</td>\n",
              "      <td>40.0</td>\n",
              "    </tr>\n",
              "  </tbody>\n",
              "</table>\n",
              "</div>"
            ],
            "text/plain": [
              "   Predicted_value         T1       RH_1  ...     RH_out  Windspeed  Actual_Value\n",
              "0        76.967756  21.856667  35.700000  ...  54.000000        4.0          40.0\n",
              "1        52.468977  21.790000  35.590000  ...  53.833333        4.0          60.0\n",
              "2        76.005684  21.790000  35.530000  ...  53.666667        4.0          30.0\n",
              "3        46.310174  21.790000  35.466667  ...  53.500000        4.0          30.0\n",
              "4        46.965538  21.790000  35.400000  ...  53.333333        4.0          40.0\n",
              "\n",
              "[5 rows x 7 columns]"
            ]
          },
          "metadata": {
            "tags": []
          },
          "execution_count": 80
        }
      ]
    },
    {
      "cell_type": "markdown",
      "metadata": {
        "id": "VYVMMi-txayx"
      },
      "source": [
        "**7.3 Plotting Predicted Value against Actual value of Energy consumtion**"
      ]
    },
    {
      "cell_type": "code",
      "metadata": {
        "colab": {
          "base_uri": "https://localhost:8080/",
          "height": 592
        },
        "id": "S0WHPHiSUsQt",
        "outputId": "b6cde8d6-f148-44d2-9c26-e0706a2ee25a"
      },
      "source": [
        "plt.figure(figsize=(12,10))\n",
        "plt.plot(Final_df.Actual_Value, label = \"Actual Value\")\n",
        "plt.plot(Final_df.Predicted_value, label = \"Predicted Value\")\n",
        "plt.legend()\n",
        "plt.show()"
      ],
      "execution_count": 83,
      "outputs": [
        {
          "output_type": "display_data",
          "data": {
            "image/png": "[encoded data removed]",
            "text/plain": [
              "<Figure size 864x720 with 1 Axes>"
            ]
          },
          "metadata": {
            "tags": [],
            "needs_background": "light"
          }
        }
      ]
    }
  ]
}